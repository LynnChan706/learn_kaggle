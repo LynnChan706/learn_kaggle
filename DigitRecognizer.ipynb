{
 "cells": [
  {
   "cell_type": "code",
   "execution_count": 28,
   "metadata": {
    "collapsed": true
   },
   "outputs": [
    {
     "name": "stdout",
     "output_type": "stream",
     "text": [
      "['sample_submission.csv', 'test.csv', 'train.csv']\n"
     ]
    }
   ],
   "source": [
    "import numpy as np\n",
    "import pandas as pd\n",
    "import matplotlib.pyplot as plt\n",
    "import os\n",
    "from sklearn.preprocessing import Binarizer\n",
    "print(os.listdir(\"../DataSet\"))"
   ]
  },
  {
   "cell_type": "code",
   "execution_count": 29,
   "metadata": {},
   "outputs": [
    {
     "name": "stdout",
     "output_type": "stream",
     "text": [
      "   label  pixel0  pixel1  pixel2  pixel3  pixel4  pixel5  pixel6  pixel7  \\\n0      1       0       0       0       0       0       0       0       0   \n1      0       0       0       0       0       0       0       0       0   \n2      1       0       0       0       0       0       0       0       0   \n3      4       0       0       0       0       0       0       0       0   \n4      0       0       0       0       0       0       0       0       0   \n\n   pixel8    ...     pixel774  pixel775  pixel776  pixel777  pixel778  \\\n0       0    ...            0         0         0         0         0   \n1       0    ...            0         0         0         0         0   \n2       0    ...            0         0         0         0         0   \n3       0    ...            0         0         0         0         0   \n4       0    ...            0         0         0         0         0   \n\n   pixel779  pixel780  pixel781  pixel782  pixel783  \n0         0         0         0         0         0  \n1         0         0         0         0         0  \n2         0         0         0         0         0  \n3         0         0         0         0         0  \n4         0         0         0         0         0  \n\n[5 rows x 785 columns]\n   pixel0  pixel1  pixel2  pixel3  pixel4  pixel5  pixel6  pixel7  pixel8  \\\n0       0       0       0       0       0       0       0       0       0   \n1       0       0       0       0       0       0       0       0       0   \n2       0       0       0       0       0       0       0       0       0   \n3       0       0       0       0       0       0       0       0       0   \n4       0       0       0       0       0       0       0       0       0   \n\n   pixel9    ...     pixel774  pixel775  pixel776  pixel777  pixel778  \\\n0       0    ...            0         0         0         0         0   \n1       0    ...            0         0         0         0         0   \n2       0    ...            0         0         0         0         0   \n3       0    ...            0         0         0         0         0   \n4       0    ...            0         0         0         0         0   \n\n   pixel779  pixel780  pixel781  pixel782  pixel783  \n0         0         0         0         0         0  \n1         0         0         0         0         0  \n2         0         0         0         0         0  \n3         0         0         0         0         0  \n4         0         0         0         0         0  \n\n[5 rows x 784 columns]\n   ImageId  Label\n0        1      0\n1        2      0\n2        3      0\n3        4      0\n4        5      0\n"
     ]
    }
   ],
   "source": [
    "train=pd.read_csv('../DataSet/train.csv')\n",
    "test=pd.read_csv('../DataSet/test.csv')\n",
    "sample = pd.read_csv('../DataSet/sample_submission.csv')\n",
    "print(train.head())\n",
    "print(test.head())\n",
    "print(sample.head())"
   ]
  },
  {
   "cell_type": "code",
   "execution_count": 31,
   "metadata": {},
   "outputs": [],
   "source": [
    "\n",
    "train_data_bin = Binarizer(threshold=20).fit_transform(train)\n",
    "X_test_bin = Binarizer(threshold=20).fit_transform(test)\n",
    "X_train = pd.DataFrame(train_data_bin).iloc[:, 1:]\n",
    "\n",
    "Y_train = train.iloc[:, 0]\n",
    "\n",
    "X_test = pd.DataFrame(X_test_bin)\n",
    "\n",
    "\n",
    "# X_train = train.iloc[:,1:]\n",
    "# Y_train = train.iloc[:,0]\n",
    "# X_test = test"
   ]
  },
  {
   "cell_type": "code",
   "execution_count": 33,
   "metadata": {},
   "outputs": [
    {
     "data": {
      "text/plain": [
       "<matplotlib.text.Text at 0x14bba188128>"
      ]
     },
     "execution_count": 33,
     "metadata": {},
     "output_type": "execute_result"
    },
    {
     "data": {
      "image/png": "[encoded data removed]",
      "text/plain": [
       "<matplotlib.figure.Figure at 0x14baa1b0c88>"
      ]
     },
     "metadata": {},
     "output_type": "display_data"
    }
   ],
   "source": [
    "plt.imshow(train.iloc[2,1:].values.reshape(28,28),cmap='gray')\n",
    "plt.title('label:{}'.format(train.iloc[1,0]))"
   ]
  },
  {
   "cell_type": "code",
   "execution_count": 34,
   "metadata": {},
   "outputs": [
    {
     "data": {
      "text/plain": [
       "<matplotlib.axes._subplots.AxesSubplot at 0x14bba1a2d68>"
      ]
     },
     "execution_count": 34,
     "metadata": {},
     "output_type": "execute_result"
    },
    {
     "data": {
      "image/png": "[encoded data removed]",
      "text/plain": [
       "<matplotlib.figure.Figure at 0x14bba0464a8>"
      ]
     },
     "metadata": {},
     "output_type": "display_data"
    }
   ],
   "source": [
    "train['label'].hist(bins=20)"
   ]
  },
  {
   "cell_type": "code",
   "execution_count": 35,
   "metadata": {},
   "outputs": [
    {
     "data": {
      "text/plain": [
       "(array([ 566.,   17.,   12.,   11.,    3.,    9.,    9.,   11.,    7.,  139.]),\n array([   0. ,   25.5,   51. ,   76.5,  102. ,  127.5,  153. ,  178.5,\n         204. ,  229.5,  255. ]),\n <a list of 10 Patch objects>)"
      ]
     },
     "execution_count": 35,
     "metadata": {},
     "output_type": "execute_result"
    },
    {
     "data": {
      "image/png": "[encoded data removed]",
      "text/plain": [
       "<matplotlib.figure.Figure at 0x14bba1a2080>"
      ]
     },
     "metadata": {},
     "output_type": "display_data"
    }
   ],
   "source": [
    "plt.hist(train.iloc[:,1:].iloc[1])"
   ]
  },
  {
   "cell_type": "code",
   "execution_count": 36,
   "metadata": {},
   "outputs": [
    {
     "data": {
      "image/png": "[encoded data removed]",
      "text/plain": [
       "<matplotlib.figure.Figure at 0x14bb9f88b38>"
      ]
     },
     "metadata": {},
     "output_type": "display_data"
    }
   ],
   "source": [
    "plt.imshow(test.iloc[78,0:].values.reshape(28,28),cmap='gray')\n",
    "plt.title('test data')\n",
    "from sklearn.ensemble.forest import RandomForestClassifier\n",
    "from sklearn.model_selection import train_test_split"
   ]
  },
  {
   "cell_type": "code",
   "execution_count": 40,
   "metadata": {},
   "outputs": [
    {
     "name": "stderr",
     "output_type": "stream",
     "text": [
      "C:\\Users\\Administrator\\AppData\\Local\\Programs\\Python\\Python35\\lib\\site-packages\\sklearn\\model_selection\\_split.py:2026: FutureWarning: From version 0.21, test_size will always complement train_size unless both are specified.\n  FutureWarning)\n"
     ]
    }
   ],
   "source": [
    "train_images, vali_images, train_labels, vali_labels = train_test_split(X_train, Y_train, train_size=0.9, random_state=0)"
   ]
  },
  {
   "cell_type": "code",
   "execution_count": 41,
   "metadata": {},
   "outputs": [
    {
     "name": "stdout",
     "output_type": "stream",
     "text": [
      "shape of train image:(37800, 784)\nshape of validation image(4200, 784)\n"
     ]
    }
   ],
   "source": [
    "print('shape of train image:{}'.format(train_images.shape))\n",
    "print('shape of validation image{}'.format(vali_images.shape))"
   ]
  },
  {
   "cell_type": "code",
   "execution_count": 42,
   "metadata": {},
   "outputs": [
    {
     "name": "stdout",
     "output_type": "stream",
     "text": [
      "acc:1.0\nacc:0.9647619047619047\n"
     ]
    }
   ],
   "source": [
    "forest = RandomForestClassifier(n_estimators=100,random_state=5)\n",
    "forest.fit(train_images,train_labels)\n",
    "print('acc:{}'.format(forest.score(train_images,train_labels)))\n",
    "print('acc:{}'.format(forest.score(vali_images,vali_labels)))"
   ]
  },
  {
   "cell_type": "code",
   "execution_count": 16,
   "metadata": {},
   "outputs": [],
   "source": [
    "from sklearn.model_selection import cross_val_score"
   ]
  },
  {
   "cell_type": "code",
   "execution_count": 19,
   "metadata": {},
   "outputs": [
    {
     "data": {
      "text/plain": [
       "array([ 0.96101114,  0.96299471,  0.96542363])"
      ]
     },
     "execution_count": 19,
     "metadata": {},
     "output_type": "execute_result"
    }
   ],
   "source": [
    "cross_val_score(forest,X_train,Y_train)"
   ]
  },
  {
   "cell_type": "code",
   "execution_count": 43,
   "metadata": {},
   "outputs": [
    {
     "data": {
      "text/plain": [
       "<matplotlib.text.Text at 0x14bba0b0b38>"
      ]
     },
     "execution_count": 43,
     "metadata": {},
     "output_type": "execute_result"
    },
    {
     "data": {
      "image/png": "[encoded data removed]",
      "text/plain": [
       "<matplotlib.figure.Figure at 0x14bb9f7ccf8>"
      ]
     },
     "metadata": {},
     "output_type": "display_data"
    }
   ],
   "source": [
    "submisssion=pd.DataFrame()\n",
    "submisssion['Label']=forest.predict(X_test)\n",
    "submisssion.index+=1\n",
    "submisssion.index.name='ImageId'\n",
    "plt.imshow(test.iloc[0, :].values.reshape(28, 28), cmap='gray')\n",
    "plt.title('label: {}'.format(train.iloc[0, 0]))"
   ]
  },
  {
   "cell_type": "code",
   "execution_count": 21,
   "metadata": {},
   "outputs": [],
   "source": [
    "submisssion.head()"
   ]
  },
  {
   "cell_type": "code",
   "execution_count": 23,
   "metadata": {},
   "outputs": [],
   "source": [
    "submisssion.to_csv('../output/submission.csv')"
   ]
  },
  {
   "cell_type": "code",
   "execution_count": null,
   "metadata": {},
   "outputs": [],
   "source": []
  }
 ],
 "metadata": {
  "kernelspec": {
   "display_name": "Python 2",
   "language": "python",
   "name": "python2"
  },
  "language_info": {
   "codemirror_mode": {
    "name": "ipython",
    "version": 2
   },
   "file_extension": ".py",
   "mimetype": "text/x-python",
   "name": "python",
   "nbconvert_exporter": "python",
   "pygments_lexer": "ipython2",
   "version": "2.7.6"
  }
 },
 "nbformat": 4,
 "nbformat_minor": 0
}
